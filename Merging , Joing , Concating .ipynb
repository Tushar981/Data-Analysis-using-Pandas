{
 "cells": [
  {
   "cell_type": "code",
   "execution_count": null,
   "id": "89236c0d",
   "metadata": {},
   "outputs": [],
   "source": [
    "import pandas as pd\n",
    "week1=pd.read_csv(\"Restaurant - Week 1 Sales.csv\") # contains the detail of week 1 customer\n",
    "week2=pd.read_csv(\"Restaurant - Week 2 Sales.csv\")# contains the detail of week 2 customer\n",
    "\n",
    "customers =pd.read_csv(\"Restaurant - Customers.csv\")# Customer what they have ordered\n",
    "foods=pd.read_csv(\"foods.csv\")#Food id information"
   ]
  },
  {
   "cell_type": "code",
   "execution_count": null,
   "id": "bd5ef824",
   "metadata": {},
   "outputs": [],
   "source": [
    "week1.head()"
   ]
  },
  {
   "cell_type": "code",
   "execution_count": null,
   "id": "5bbc79c1",
   "metadata": {},
   "outputs": [],
   "source": [
    "week2.head()"
   ]
  },
  {
   "cell_type": "code",
   "execution_count": null,
   "id": "f5db0c5b",
   "metadata": {},
   "outputs": [],
   "source": [
    "customers.head()"
   ]
  },
  {
   "cell_type": "code",
   "execution_count": null,
   "id": "62dfc55a",
   "metadata": {},
   "outputs": [],
   "source": [
    "foods"
   ]
  },
  {
   "cell_type": "code",
   "execution_count": null,
   "id": "774a82c4",
   "metadata": {},
   "outputs": [],
   "source": [
    "# so here we have two csv week 1 and week 2 which containing same information \n",
    "# so if we will going to merge then we need to work on only one df\n",
    "pd.concat(objs=[week1,week2])\n",
    "# here by default parameter is false for ignore this we need to make it True so that we can see 499 index \n",
    "pd.concat(objs=[week1,week2],ignore_index=False)\n",
    "pd.concat(objs=[week1,week2],ignore_index=True)"
   ]
  },
  {
   "cell_type": "markdown",
   "id": "f12261ae",
   "metadata": {},
   "source": [
    "# The pd.concat() Method,Part -2"
   ]
  },
  {
   "cell_type": "code",
   "execution_count": null,
   "id": "d6f92369",
   "metadata": {},
   "outputs": [],
   "source": [
    "#  another way is to do so but index should not be changed\n",
    "sales =pd.concat(objs=[week1,week2],keys=[\"week1\",\"week2\"])\n",
    "#keys meaning is the things should be fixed"
   ]
  },
  {
   "cell_type": "code",
   "execution_count": null,
   "id": "36f083d5",
   "metadata": {},
   "outputs": [],
   "source": [
    "# this will helps us to etract the data so with .iloc function we can do\n",
    "sales.loc[(\"week1\",)]\n",
    "sales.loc[(\"week2\",)]\n",
    "\n",
    "\n",
    "sales.loc[(\"week1\",240)]\n",
    "sales.loc[(\"week2\",240,)]"
   ]
  },
  {
   "cell_type": "code",
   "execution_count": null,
   "id": "af34fcb2",
   "metadata": {},
   "outputs": [],
   "source": [
    "# if we want the data in more granular way\n",
    "sales.loc[(\"week2\",240,),\"Customer ID\"]\n",
    "sales.loc[(\"week2\",240,),\"Food ID\"]"
   ]
  },
  {
   "cell_type": "code",
   "execution_count": null,
   "id": "3812f61f",
   "metadata": {},
   "outputs": [],
   "source": [
    "sales.loc[(\"week2\",240,),[\"Customer ID\",\"Food ID\"]]"
   ]
  },
  {
   "cell_type": "markdown",
   "id": "642bf246",
   "metadata": {},
   "source": [
    "# Inner Join"
   ]
  },
  {
   "cell_type": "code",
   "execution_count": null,
   "id": "a97ce129",
   "metadata": {},
   "outputs": [],
   "source": [
    "week1.head()"
   ]
  },
  {
   "cell_type": "code",
   "execution_count": null,
   "id": "99e2dfd7",
   "metadata": {},
   "outputs": [],
   "source": [
    "week2.head()"
   ]
  },
  {
   "cell_type": "code",
   "execution_count": null,
   "id": "60084a13",
   "metadata": {},
   "outputs": [],
   "source": [
    "#how->means which join operation they need to implement\n",
    "#on->one which column it will going to implement the id should be match in both the data set.\n",
    "\n",
    "week1.merge(week2,how=\"inner\",on=\"Customer ID\")"
   ]
  },
  {
   "cell_type": "code",
   "execution_count": null,
   "id": "f26cec4e",
   "metadata": {},
   "outputs": [],
   "source": [
    "#so why 155 is getting repeating\n",
    "# cause if we are looking both the tables data\n",
    "\n",
    "week1[week1[\"Customer ID\"]==155]"
   ]
  },
  {
   "cell_type": "code",
   "execution_count": null,
   "id": "2db1d9ac",
   "metadata": {},
   "outputs": [],
   "source": [
    "\n",
    "week2[week2[\"Customer ID\"]==155]"
   ]
  },
  {
   "cell_type": "code",
   "execution_count": null,
   "id": "97a8d045",
   "metadata": {},
   "outputs": [],
   "source": [
    "# beacuse of that it is showing the duplicate result in first week1 the customer no 155 ordered two item and in the second week \n",
    "#the same client booked only one time so with the help of inner join they both collate and showing the (9,3) and (1,9)"
   ]
  },
  {
   "cell_type": "code",
   "execution_count": null,
   "id": "9c08ea7f",
   "metadata": {},
   "outputs": [],
   "source": [
    "# the another thing this suffix _x and _y is not looks good\n",
    "week1.merge(week2,how=\"inner\",on=\"Customer ID\",suffixes=[\" - week1\",\" - week2\"])"
   ]
  },
  {
   "cell_type": "code",
   "execution_count": null,
   "id": "4cd3cbf6",
   "metadata": {},
   "outputs": [],
   "source": [
    "#another use case \n",
    "week1.merge(week2,how=\"inner\",on=[\"Customer ID\",\"Food ID\"])\n",
    "# here the only duplicacy in customer id =21\n"
   ]
  },
  {
   "cell_type": "code",
   "execution_count": null,
   "id": "5a401ef0",
   "metadata": {},
   "outputs": [],
   "source": [
    "week1[week1[\"Customer ID\"]==21]"
   ]
  },
  {
   "cell_type": "code",
   "execution_count": null,
   "id": "1ad0edf1",
   "metadata": {},
   "outputs": [],
   "source": [
    "week2[week2[\"Customer ID\"]==21]"
   ]
  },
  {
   "cell_type": "code",
   "execution_count": null,
   "id": "407134f4",
   "metadata": {},
   "outputs": [],
   "source": [
    "# this is the reason we are getting the duplicate result"
   ]
  },
  {
   "attachments": {
    "image.png": {
     "image/png": "[encoded data removed]"
    }
   },
   "cell_type": "markdown",
   "id": "ec236cef",
   "metadata": {},
   "source": [
    "# Outer Joins-> it will provide all combination\n",
    "![image.png](attachment:image.png)"
   ]
  },
  {
   "cell_type": "code",
   "execution_count": null,
   "id": "04ee145a",
   "metadata": {},
   "outputs": [],
   "source": [
    "week1.merge(week2,how=\"outer\",on=\"Customer ID\",suffixes=[\" - week1\",\" - week2\"])\n",
    "# the values are coming in decimal because of NaN - pandas need to store in decimal"
   ]
  },
  {
   "cell_type": "code",
   "execution_count": null,
   "id": "2de6a7c0",
   "metadata": {},
   "outputs": [],
   "source": [
    "len(week1.merge(week2,how=\"outer\",on=\"Customer ID\",suffixes=[\" - week1\",\" - week2\"]))"
   ]
  },
  {
   "cell_type": "code",
   "execution_count": null,
   "id": "b2d18f11",
   "metadata": {},
   "outputs": [],
   "source": [
    "500-454\n",
    "# only 46 records which are  matching."
   ]
  },
  {
   "cell_type": "code",
   "execution_count": null,
   "id": "a43b4309",
   "metadata": {},
   "outputs": [],
   "source": [
    "# one more functionality we can use which is indicator that helps us to indicate the data is coming from which table\n",
    "merged=week1.merge(week2,how=\"outer\",on=\"Customer ID\",suffixes=[\" - week1\",\" - week2\"],indicator=True)\n",
    "merged.head()"
   ]
  },
  {
   "cell_type": "code",
   "execution_count": null,
   "id": "7121f103",
   "metadata": {},
   "outputs": [],
   "source": [
    "merged[\"_merge\"].value_counts()"
   ]
  },
  {
   "attachments": {
    "image.png": {
     "image/png": "[encoded data removed]"
    }
   },
   "cell_type": "markdown",
   "id": "f3f41641",
   "metadata": {},
   "source": [
    "# ![image.png](attachment:image.png)"
   ]
  },
  {
   "cell_type": "code",
   "execution_count": null,
   "id": "f62bdf65",
   "metadata": {},
   "outputs": [],
   "source": [
    "merged[merged[\"_merge\"].isin([\"left_only\",\"right_only\"])]"
   ]
  },
  {
   "cell_type": "markdown",
   "id": "33789a4f",
   "metadata": {},
   "source": [
    "# Left Join"
   ]
  },
  {
   "cell_type": "code",
   "execution_count": null,
   "id": "3c982c67",
   "metadata": {},
   "outputs": [],
   "source": [
    "import pandas as pd\n",
    "week1=pd.read_csv(\"Restaurant - Week 1 Sales.csv\") # contains the detail of week 1 customer\n",
    "week2=pd.read_csv(\"Restaurant - Week 2 Sales.csv\")# contains the detail of week 2 customer\n",
    "\n",
    "customers =pd.read_csv(\"Restaurant - Customers.csv\")# Customer what they have ordered\n",
    "foods=pd.read_csv(\"Restaurant - Foods.csv\")#Food id information"
   ]
  },
  {
   "cell_type": "code",
   "execution_count": null,
   "id": "ebb95b02",
   "metadata": {},
   "outputs": [],
   "source": [
    "week1.head()"
   ]
  },
  {
   "cell_type": "code",
   "execution_count": null,
   "id": "6504eab0",
   "metadata": {},
   "outputs": [],
   "source": [
    "foods.head()"
   ]
  },
  {
   "cell_type": "code",
   "execution_count": null,
   "id": "18d9db86",
   "metadata": {},
   "outputs": [],
   "source": [
    "week1.merge(foods,how=\"left\",on=\"Food ID\",indicator=True,sort=True)"
   ]
  },
  {
   "cell_type": "code",
   "execution_count": null,
   "id": "bf6031a6",
   "metadata": {},
   "outputs": [],
   "source": [
    "week1[week1[\"Food ID\"]==1]"
   ]
  },
  {
   "cell_type": "code",
   "execution_count": null,
   "id": "9496adbf",
   "metadata": {},
   "outputs": [],
   "source": [
    "foods[foods[\"Food ID\"]==1]"
   ]
  },
  {
   "cell_type": "markdown",
   "id": "bacbf54f",
   "metadata": {},
   "source": [
    "# The left_on and right_on Parameter"
   ]
  },
  {
   "cell_type": "code",
   "execution_count": null,
   "id": "4d3a2ab3",
   "metadata": {},
   "outputs": [],
   "source": [
    "# Till now we have the same column name in both the tables but that is not a case each and evey time \n",
    "# In that case we need to use left_on parameter so that we can indicate left table name\n",
    "# for the right hand side table also same kind of parameter right_on parameter we have to use \n",
    "\n",
    "import pandas as pd\n",
    "week1=pd.read_csv(\"Restaurant - Week 1 Sales.csv\") # contains the detail of week 1 customer\n",
    "week2=pd.read_csv(\"Restaurant - Week 2 Sales.csv\")# contains the detail of week 2 customer\n",
    "\n",
    "customers =pd.read_csv(\"Restaurant - Customers.csv\")# Customer what they have ordered\n",
    "foods=pd.read_csv(\"Restaurant - Foods.csv\")#Food id information\n"
   ]
  },
  {
   "cell_type": "code",
   "execution_count": null,
   "id": "cb0dfdc0",
   "metadata": {},
   "outputs": [],
   "source": [
    "week2.head()"
   ]
  },
  {
   "cell_type": "code",
   "execution_count": null,
   "id": "84360a49",
   "metadata": {},
   "outputs": [],
   "source": [
    "customers.head()"
   ]
  },
  {
   "cell_type": "code",
   "execution_count": null,
   "id": "bad3b8c1",
   "metadata": {},
   "outputs": [],
   "source": [
    "week2.merge(customers,how=\"inner\",left_on=\"Customer ID\",right_on=\"ID\")"
   ]
  },
  {
   "cell_type": "code",
   "execution_count": null,
   "id": "c13b914b",
   "metadata": {},
   "outputs": [],
   "source": [
    "#so now the ID and Customer ID both column is there so i need to remove one column beacuse there is no use to keep all the column\n",
    "week2.merge(customers,how=\"inner\",left_on=\"Customer ID\",right_on=\"ID\").drop(\"ID\",axis=\"columns\")"
   ]
  },
  {
   "cell_type": "markdown",
   "id": "b7cd960b",
   "metadata": {},
   "source": [
    "# Merging by indexes with left_index and right_index Parameter"
   ]
  },
  {
   "cell_type": "code",
   "execution_count": null,
   "id": "1aa006cd",
   "metadata": {},
   "outputs": [],
   "source": [
    "import pandas as pd\n",
    "week1=pd.read_csv(\"Restaurant - Week 1 Sales.csv\") \n",
    "-week2=pd.read_csv(\"Restaurant - Week 2 Sales.csv\")\n",
    "customers=pd.read_csv(\"Restaurant - Customers.csv\",index_col=\"ID\")\n",
    "foods=pd.read_csv(\"Restaurant - Foods.csv\",index_col=\"Food ID\")"
   ]
  },
  {
   "cell_type": "code",
   "execution_count": null,
   "id": "f172dad0",
   "metadata": {},
   "outputs": [],
   "source": [
    "customers.head()"
   ]
  },
  {
   "cell_type": "code",
   "execution_count": null,
   "id": "e99fb0c6",
   "metadata": {},
   "outputs": [],
   "source": [
    "foods.head()"
   ]
  },
  {
   "cell_type": "code",
   "execution_count": null,
   "id": "73123b00",
   "metadata": {},
   "outputs": [],
   "source": []
  },
  {
   "cell_type": "code",
   "execution_count": null,
   "id": "98a0e2bf",
   "metadata": {},
   "outputs": [],
   "source": [
    "week1.head()"
   ]
  },
  {
   "cell_type": "code",
   "execution_count": null,
   "id": "01e58fbd",
   "metadata": {},
   "outputs": [],
   "source": [
    "week2.head()"
   ]
  },
  {
   "cell_type": "code",
   "execution_count": null,
   "id": "7dff4627",
   "metadata": {},
   "outputs": [],
   "source": [
    "week1.merge(week2,how=\"left\",left_index=True,right_index=True,suffixes=[\" - Week 1\",\" - Week 2\"])"
   ]
  },
  {
   "cell_type": "code",
   "execution_count": null,
   "id": "9518c80f",
   "metadata": {},
   "outputs": [],
   "source": [
    "week1.merge(customers,how=\"left\",left_on=\"Customer ID\",right_index=True)"
   ]
  },
  {
   "cell_type": "markdown",
   "id": "917480ea",
   "metadata": {},
   "source": [
    "# The .Join Method"
   ]
  },
  {
   "cell_type": "code",
   "execution_count": null,
   "id": "97d26334",
   "metadata": {},
   "outputs": [],
   "source": [
    "import pandas as pd\n",
    "week1=pd.read_csv(\"Restaurant - Week 1 Sales.csv\") \n",
    "week2=pd.read_csv(\"Restaurant - Week 2 Sales.csv\")\n",
    "customers=pd.read_csv(\"Restaurant - Customers.csv\")\n",
    "foods=pd.read_csv(\"Restaurant - Foods.csv\")\n",
    "satisfaction=pd.read_csv(\"Restaurant - Week 1 Satisfaction.csv\")"
   ]
  },
  {
   "cell_type": "code",
   "execution_count": null,
   "id": "2b3b0e55",
   "metadata": {},
   "outputs": [],
   "source": [
    "week1.head()"
   ]
  },
  {
   "cell_type": "code",
   "execution_count": null,
   "id": "c74d1f23",
   "metadata": {},
   "outputs": [],
   "source": [
    "satisfaction.head()"
   ]
  },
  {
   "cell_type": "code",
   "execution_count": 135,
   "id": "782757ad",
   "metadata": {},
   "outputs": [
    {
     "data": {
      "text/html": [
       "<div>\n",
       "<style scoped>\n",
       "    .dataframe tbody tr th:only-of-type {\n",
       "        vertical-align: middle;\n",
       "    }\n",
       "\n",
       "    .dataframe tbody tr th {\n",
       "        vertical-align: top;\n",
       "    }\n",
       "\n",
       "    .dataframe thead th {\n",
       "        text-align: right;\n",
       "    }\n",
       "</style>\n",
       "<table border=\"1\" class=\"dataframe\">\n",
       "  <thead>\n",
       "    <tr style=\"text-align: right;\">\n",
       "      <th></th>\n",
       "      <th>Customer ID</th>\n",
       "      <th>Food ID</th>\n",
       "      <th>Satisfaction Rating</th>\n",
       "    </tr>\n",
       "  </thead>\n",
       "  <tbody>\n",
       "    <tr>\n",
       "      <th>0</th>\n",
       "      <td>537</td>\n",
       "      <td>9</td>\n",
       "      <td>2</td>\n",
       "    </tr>\n",
       "    <tr>\n",
       "      <th>1</th>\n",
       "      <td>97</td>\n",
       "      <td>4</td>\n",
       "      <td>7</td>\n",
       "    </tr>\n",
       "    <tr>\n",
       "      <th>2</th>\n",
       "      <td>658</td>\n",
       "      <td>1</td>\n",
       "      <td>3</td>\n",
       "    </tr>\n",
       "    <tr>\n",
       "      <th>3</th>\n",
       "      <td>202</td>\n",
       "      <td>2</td>\n",
       "      <td>7</td>\n",
       "    </tr>\n",
       "    <tr>\n",
       "      <th>4</th>\n",
       "      <td>155</td>\n",
       "      <td>9</td>\n",
       "      <td>10</td>\n",
       "    </tr>\n",
       "    <tr>\n",
       "      <th>...</th>\n",
       "      <td>...</td>\n",
       "      <td>...</td>\n",
       "      <td>...</td>\n",
       "    </tr>\n",
       "    <tr>\n",
       "      <th>245</th>\n",
       "      <td>413</td>\n",
       "      <td>9</td>\n",
       "      <td>1</td>\n",
       "    </tr>\n",
       "    <tr>\n",
       "      <th>246</th>\n",
       "      <td>926</td>\n",
       "      <td>6</td>\n",
       "      <td>2</td>\n",
       "    </tr>\n",
       "    <tr>\n",
       "      <th>247</th>\n",
       "      <td>134</td>\n",
       "      <td>3</td>\n",
       "      <td>8</td>\n",
       "    </tr>\n",
       "    <tr>\n",
       "      <th>248</th>\n",
       "      <td>396</td>\n",
       "      <td>6</td>\n",
       "      <td>10</td>\n",
       "    </tr>\n",
       "    <tr>\n",
       "      <th>249</th>\n",
       "      <td>535</td>\n",
       "      <td>10</td>\n",
       "      <td>3</td>\n",
       "    </tr>\n",
       "  </tbody>\n",
       "</table>\n",
       "<p>250 rows × 3 columns</p>\n",
       "</div>"
      ],
      "text/plain": [
       "     Customer ID  Food ID  Satisfaction Rating\n",
       "0            537        9                    2\n",
       "1             97        4                    7\n",
       "2            658        1                    3\n",
       "3            202        2                    7\n",
       "4            155        9                   10\n",
       "..           ...      ...                  ...\n",
       "245          413        9                    1\n",
       "246          926        6                    2\n",
       "247          134        3                    8\n",
       "248          396        6                   10\n",
       "249          535       10                    3\n",
       "\n",
       "[250 rows x 3 columns]"
      ]
     },
     "execution_count": 135,
     "metadata": {},
     "output_type": "execute_result"
    }
   ],
   "source": [
    "week1.merge(satisfaction,how=\"left\",left_index=True,right_index=True)"
   ]
  },
  {
   "cell_type": "code",
   "execution_count": 137,
   "id": "d791c0dc",
   "metadata": {},
   "outputs": [
    {
     "data": {
      "text/html": [
       "<div>\n",
       "<style scoped>\n",
       "    .dataframe tbody tr th:only-of-type {\n",
       "        vertical-align: middle;\n",
       "    }\n",
       "\n",
       "    .dataframe tbody tr th {\n",
       "        vertical-align: top;\n",
       "    }\n",
       "\n",
       "    .dataframe thead th {\n",
       "        text-align: right;\n",
       "    }\n",
       "</style>\n",
       "<table border=\"1\" class=\"dataframe\">\n",
       "  <thead>\n",
       "    <tr style=\"text-align: right;\">\n",
       "      <th></th>\n",
       "      <th>Customer ID</th>\n",
       "      <th>Food ID</th>\n",
       "      <th>Satisfaction Rating</th>\n",
       "    </tr>\n",
       "  </thead>\n",
       "  <tbody>\n",
       "    <tr>\n",
       "      <th>0</th>\n",
       "      <td>537</td>\n",
       "      <td>9</td>\n",
       "      <td>2</td>\n",
       "    </tr>\n",
       "    <tr>\n",
       "      <th>1</th>\n",
       "      <td>97</td>\n",
       "      <td>4</td>\n",
       "      <td>7</td>\n",
       "    </tr>\n",
       "    <tr>\n",
       "      <th>2</th>\n",
       "      <td>658</td>\n",
       "      <td>1</td>\n",
       "      <td>3</td>\n",
       "    </tr>\n",
       "    <tr>\n",
       "      <th>3</th>\n",
       "      <td>202</td>\n",
       "      <td>2</td>\n",
       "      <td>7</td>\n",
       "    </tr>\n",
       "    <tr>\n",
       "      <th>4</th>\n",
       "      <td>155</td>\n",
       "      <td>9</td>\n",
       "      <td>10</td>\n",
       "    </tr>\n",
       "    <tr>\n",
       "      <th>...</th>\n",
       "      <td>...</td>\n",
       "      <td>...</td>\n",
       "      <td>...</td>\n",
       "    </tr>\n",
       "    <tr>\n",
       "      <th>245</th>\n",
       "      <td>413</td>\n",
       "      <td>9</td>\n",
       "      <td>1</td>\n",
       "    </tr>\n",
       "    <tr>\n",
       "      <th>246</th>\n",
       "      <td>926</td>\n",
       "      <td>6</td>\n",
       "      <td>2</td>\n",
       "    </tr>\n",
       "    <tr>\n",
       "      <th>247</th>\n",
       "      <td>134</td>\n",
       "      <td>3</td>\n",
       "      <td>8</td>\n",
       "    </tr>\n",
       "    <tr>\n",
       "      <th>248</th>\n",
       "      <td>396</td>\n",
       "      <td>6</td>\n",
       "      <td>10</td>\n",
       "    </tr>\n",
       "    <tr>\n",
       "      <th>249</th>\n",
       "      <td>535</td>\n",
       "      <td>10</td>\n",
       "      <td>3</td>\n",
       "    </tr>\n",
       "  </tbody>\n",
       "</table>\n",
       "<p>250 rows × 3 columns</p>\n",
       "</div>"
      ],
      "text/plain": [
       "     Customer ID  Food ID  Satisfaction Rating\n",
       "0            537        9                    2\n",
       "1             97        4                    7\n",
       "2            658        1                    3\n",
       "3            202        2                    7\n",
       "4            155        9                   10\n",
       "..           ...      ...                  ...\n",
       "245          413        9                    1\n",
       "246          926        6                    2\n",
       "247          134        3                    8\n",
       "248          396        6                   10\n",
       "249          535       10                    3\n",
       "\n",
       "[250 rows x 3 columns]"
      ]
     },
     "execution_count": 137,
     "metadata": {},
     "output_type": "execute_result"
    }
   ],
   "source": [
    "#Join Method Preferably used when u are adding the indexs\n",
    "week1.join(satisfaction)"
   ]
  },
  {
   "cell_type": "markdown",
   "id": "189e1f26",
   "metadata": {},
   "source": [
    "# The pd.merge()"
   ]
  },
  {
   "cell_type": "code",
   "execution_count": 139,
   "id": "692d87ce",
   "metadata": {},
   "outputs": [],
   "source": [
    "# we can directly join the dataframe using the .merge()\n",
    "#first two parameter will be left table and right table \n",
    "import pandas as pd\n",
    "week1=pd.read_csv(\"Restaurant - Week 1 Sales.csv\") \n",
    "week2=pd.read_csv(\"Restaurant - Week 2 Sales.csv\")\n",
    "customers=pd.read_csv(\"Restaurant - Customers.csv\")\n",
    "foods=pd.read_csv(\"Restaurant - Foods.csv\")\n",
    "satisfaction=pd.read_csv(\"Restaurant - Week 1 Satisfaction.csv\")"
   ]
  },
  {
   "cell_type": "code",
   "execution_count": 141,
   "id": "6c4f8ebe",
   "metadata": {},
   "outputs": [
    {
     "data": {
      "text/html": [
       "<div>\n",
       "<style scoped>\n",
       "    .dataframe tbody tr th:only-of-type {\n",
       "        vertical-align: middle;\n",
       "    }\n",
       "\n",
       "    .dataframe tbody tr th {\n",
       "        vertical-align: top;\n",
       "    }\n",
       "\n",
       "    .dataframe thead th {\n",
       "        text-align: right;\n",
       "    }\n",
       "</style>\n",
       "<table border=\"1\" class=\"dataframe\">\n",
       "  <thead>\n",
       "    <tr style=\"text-align: right;\">\n",
       "      <th></th>\n",
       "      <th>Customer ID</th>\n",
       "      <th>Food ID</th>\n",
       "    </tr>\n",
       "  </thead>\n",
       "  <tbody>\n",
       "    <tr>\n",
       "      <th>0</th>\n",
       "      <td>537</td>\n",
       "      <td>9</td>\n",
       "    </tr>\n",
       "    <tr>\n",
       "      <th>1</th>\n",
       "      <td>97</td>\n",
       "      <td>4</td>\n",
       "    </tr>\n",
       "    <tr>\n",
       "      <th>2</th>\n",
       "      <td>658</td>\n",
       "      <td>1</td>\n",
       "    </tr>\n",
       "    <tr>\n",
       "      <th>3</th>\n",
       "      <td>202</td>\n",
       "      <td>2</td>\n",
       "    </tr>\n",
       "    <tr>\n",
       "      <th>4</th>\n",
       "      <td>155</td>\n",
       "      <td>9</td>\n",
       "    </tr>\n",
       "  </tbody>\n",
       "</table>\n",
       "</div>"
      ],
      "text/plain": [
       "   Customer ID  Food ID\n",
       "0          537        9\n",
       "1           97        4\n",
       "2          658        1\n",
       "3          202        2\n",
       "4          155        9"
      ]
     },
     "execution_count": 141,
     "metadata": {},
     "output_type": "execute_result"
    }
   ],
   "source": [
    "week1.head()"
   ]
  },
  {
   "cell_type": "code",
   "execution_count": 142,
   "id": "8b208af1",
   "metadata": {},
   "outputs": [
    {
     "data": {
      "text/html": [
       "<div>\n",
       "<style scoped>\n",
       "    .dataframe tbody tr th:only-of-type {\n",
       "        vertical-align: middle;\n",
       "    }\n",
       "\n",
       "    .dataframe tbody tr th {\n",
       "        vertical-align: top;\n",
       "    }\n",
       "\n",
       "    .dataframe thead th {\n",
       "        text-align: right;\n",
       "    }\n",
       "</style>\n",
       "<table border=\"1\" class=\"dataframe\">\n",
       "  <thead>\n",
       "    <tr style=\"text-align: right;\">\n",
       "      <th></th>\n",
       "      <th>ID</th>\n",
       "      <th>First Name</th>\n",
       "      <th>Last Name</th>\n",
       "      <th>Gender</th>\n",
       "      <th>Company</th>\n",
       "      <th>Occupation</th>\n",
       "    </tr>\n",
       "  </thead>\n",
       "  <tbody>\n",
       "    <tr>\n",
       "      <th>0</th>\n",
       "      <td>1</td>\n",
       "      <td>Joseph</td>\n",
       "      <td>Perkins</td>\n",
       "      <td>Male</td>\n",
       "      <td>Dynazzy</td>\n",
       "      <td>Community Outreach Specialist</td>\n",
       "    </tr>\n",
       "    <tr>\n",
       "      <th>1</th>\n",
       "      <td>2</td>\n",
       "      <td>Jennifer</td>\n",
       "      <td>Alvarez</td>\n",
       "      <td>Female</td>\n",
       "      <td>DabZ</td>\n",
       "      <td>Senior Quality Engineer</td>\n",
       "    </tr>\n",
       "    <tr>\n",
       "      <th>2</th>\n",
       "      <td>3</td>\n",
       "      <td>Roger</td>\n",
       "      <td>Black</td>\n",
       "      <td>Male</td>\n",
       "      <td>Tagfeed</td>\n",
       "      <td>Account Executive</td>\n",
       "    </tr>\n",
       "    <tr>\n",
       "      <th>3</th>\n",
       "      <td>4</td>\n",
       "      <td>Steven</td>\n",
       "      <td>Evans</td>\n",
       "      <td>Male</td>\n",
       "      <td>Fatz</td>\n",
       "      <td>Registered Nurse</td>\n",
       "    </tr>\n",
       "    <tr>\n",
       "      <th>4</th>\n",
       "      <td>5</td>\n",
       "      <td>Judy</td>\n",
       "      <td>Morrison</td>\n",
       "      <td>Female</td>\n",
       "      <td>Demivee</td>\n",
       "      <td>Legal Assistant</td>\n",
       "    </tr>\n",
       "  </tbody>\n",
       "</table>\n",
       "</div>"
      ],
      "text/plain": [
       "   ID First Name Last Name  Gender  Company                     Occupation\n",
       "0   1     Joseph   Perkins    Male  Dynazzy  Community Outreach Specialist\n",
       "1   2   Jennifer   Alvarez  Female     DabZ        Senior Quality Engineer\n",
       "2   3      Roger     Black    Male  Tagfeed              Account Executive\n",
       "3   4     Steven     Evans    Male     Fatz               Registered Nurse\n",
       "4   5       Judy  Morrison  Female  Demivee                Legal Assistant"
      ]
     },
     "execution_count": 142,
     "metadata": {},
     "output_type": "execute_result"
    }
   ],
   "source": [
    "customers.head()"
   ]
  },
  {
   "cell_type": "code",
   "execution_count": 143,
   "id": "c7af1908",
   "metadata": {},
   "outputs": [
    {
     "data": {
      "text/html": [
       "<div>\n",
       "<style scoped>\n",
       "    .dataframe tbody tr th:only-of-type {\n",
       "        vertical-align: middle;\n",
       "    }\n",
       "\n",
       "    .dataframe tbody tr th {\n",
       "        vertical-align: top;\n",
       "    }\n",
       "\n",
       "    .dataframe thead th {\n",
       "        text-align: right;\n",
       "    }\n",
       "</style>\n",
       "<table border=\"1\" class=\"dataframe\">\n",
       "  <thead>\n",
       "    <tr style=\"text-align: right;\">\n",
       "      <th></th>\n",
       "      <th>Customer ID</th>\n",
       "      <th>Food ID</th>\n",
       "      <th>ID</th>\n",
       "      <th>First Name</th>\n",
       "      <th>Last Name</th>\n",
       "      <th>Gender</th>\n",
       "      <th>Company</th>\n",
       "      <th>Occupation</th>\n",
       "    </tr>\n",
       "  </thead>\n",
       "  <tbody>\n",
       "    <tr>\n",
       "      <th>0</th>\n",
       "      <td>537</td>\n",
       "      <td>9</td>\n",
       "      <td>537</td>\n",
       "      <td>Cheryl</td>\n",
       "      <td>Carroll</td>\n",
       "      <td>Female</td>\n",
       "      <td>Zoombeat</td>\n",
       "      <td>Registered Nurse</td>\n",
       "    </tr>\n",
       "    <tr>\n",
       "      <th>1</th>\n",
       "      <td>97</td>\n",
       "      <td>4</td>\n",
       "      <td>97</td>\n",
       "      <td>Amanda</td>\n",
       "      <td>Watkins</td>\n",
       "      <td>Female</td>\n",
       "      <td>Ozu</td>\n",
       "      <td>Account Coordinator</td>\n",
       "    </tr>\n",
       "    <tr>\n",
       "      <th>2</th>\n",
       "      <td>658</td>\n",
       "      <td>1</td>\n",
       "      <td>658</td>\n",
       "      <td>Patrick</td>\n",
       "      <td>Webb</td>\n",
       "      <td>Male</td>\n",
       "      <td>Browsebug</td>\n",
       "      <td>Community Outreach Specialist</td>\n",
       "    </tr>\n",
       "    <tr>\n",
       "      <th>3</th>\n",
       "      <td>202</td>\n",
       "      <td>2</td>\n",
       "      <td>202</td>\n",
       "      <td>Louis</td>\n",
       "      <td>Campbell</td>\n",
       "      <td>Male</td>\n",
       "      <td>Rhynoodle</td>\n",
       "      <td>Account Representative III</td>\n",
       "    </tr>\n",
       "    <tr>\n",
       "      <th>4</th>\n",
       "      <td>155</td>\n",
       "      <td>9</td>\n",
       "      <td>155</td>\n",
       "      <td>Carolyn</td>\n",
       "      <td>Diaz</td>\n",
       "      <td>Female</td>\n",
       "      <td>Gigazoom</td>\n",
       "      <td>Database Administrator III</td>\n",
       "    </tr>\n",
       "    <tr>\n",
       "      <th>...</th>\n",
       "      <td>...</td>\n",
       "      <td>...</td>\n",
       "      <td>...</td>\n",
       "      <td>...</td>\n",
       "      <td>...</td>\n",
       "      <td>...</td>\n",
       "      <td>...</td>\n",
       "      <td>...</td>\n",
       "    </tr>\n",
       "    <tr>\n",
       "      <th>245</th>\n",
       "      <td>413</td>\n",
       "      <td>9</td>\n",
       "      <td>413</td>\n",
       "      <td>Diane</td>\n",
       "      <td>Bailey</td>\n",
       "      <td>Female</td>\n",
       "      <td>Wikibox</td>\n",
       "      <td>Technical Writer</td>\n",
       "    </tr>\n",
       "    <tr>\n",
       "      <th>246</th>\n",
       "      <td>926</td>\n",
       "      <td>6</td>\n",
       "      <td>926</td>\n",
       "      <td>Anne</td>\n",
       "      <td>Wagner</td>\n",
       "      <td>Female</td>\n",
       "      <td>Skyba</td>\n",
       "      <td>Legal Assistant</td>\n",
       "    </tr>\n",
       "    <tr>\n",
       "      <th>247</th>\n",
       "      <td>134</td>\n",
       "      <td>3</td>\n",
       "      <td>134</td>\n",
       "      <td>Diana</td>\n",
       "      <td>Hall</td>\n",
       "      <td>Female</td>\n",
       "      <td>Quinu</td>\n",
       "      <td>Financial Advisor</td>\n",
       "    </tr>\n",
       "    <tr>\n",
       "      <th>248</th>\n",
       "      <td>396</td>\n",
       "      <td>6</td>\n",
       "      <td>396</td>\n",
       "      <td>Juan</td>\n",
       "      <td>Romero</td>\n",
       "      <td>Male</td>\n",
       "      <td>Zoonder</td>\n",
       "      <td>Analyst Programmer</td>\n",
       "    </tr>\n",
       "    <tr>\n",
       "      <th>249</th>\n",
       "      <td>535</td>\n",
       "      <td>10</td>\n",
       "      <td>535</td>\n",
       "      <td>Nancy</td>\n",
       "      <td>Cox</td>\n",
       "      <td>Female</td>\n",
       "      <td>Trudeo</td>\n",
       "      <td>Research Associate</td>\n",
       "    </tr>\n",
       "  </tbody>\n",
       "</table>\n",
       "<p>250 rows × 8 columns</p>\n",
       "</div>"
      ],
      "text/plain": [
       "     Customer ID  Food ID   ID First Name Last Name  Gender    Company  \\\n",
       "0            537        9  537     Cheryl   Carroll  Female   Zoombeat   \n",
       "1             97        4   97     Amanda   Watkins  Female        Ozu   \n",
       "2            658        1  658    Patrick      Webb    Male  Browsebug   \n",
       "3            202        2  202      Louis  Campbell    Male  Rhynoodle   \n",
       "4            155        9  155    Carolyn      Diaz  Female   Gigazoom   \n",
       "..           ...      ...  ...        ...       ...     ...        ...   \n",
       "245          413        9  413      Diane    Bailey  Female    Wikibox   \n",
       "246          926        6  926       Anne    Wagner  Female      Skyba   \n",
       "247          134        3  134      Diana      Hall  Female      Quinu   \n",
       "248          396        6  396       Juan    Romero    Male    Zoonder   \n",
       "249          535       10  535      Nancy       Cox  Female     Trudeo   \n",
       "\n",
       "                        Occupation  \n",
       "0                 Registered Nurse  \n",
       "1              Account Coordinator  \n",
       "2    Community Outreach Specialist  \n",
       "3       Account Representative III  \n",
       "4       Database Administrator III  \n",
       "..                             ...  \n",
       "245               Technical Writer  \n",
       "246                Legal Assistant  \n",
       "247              Financial Advisor  \n",
       "248             Analyst Programmer  \n",
       "249             Research Associate  \n",
       "\n",
       "[250 rows x 8 columns]"
      ]
     },
     "execution_count": 143,
     "metadata": {},
     "output_type": "execute_result"
    }
   ],
   "source": [
    "pd.merge(week1,customers,how=\"left\",left_on=\"Customer ID\",right_on=\"ID\")"
   ]
  },
  {
   "cell_type": "code",
   "execution_count": null,
   "id": "b73af1ea",
   "metadata": {},
   "outputs": [],
   "source": []
  }
 ],
 "metadata": {
  "kernelspec": {
   "display_name": "Python 3 (ipykernel)",
   "language": "python",
   "name": "python3"
  },
  "language_info": {
   "codemirror_mode": {
    "name": "ipython",
    "version": 3
   },
   "file_extension": ".py",
   "mimetype": "text/x-python",
   "name": "python",
   "nbconvert_exporter": "python",
   "pygments_lexer": "ipython3",
   "version": "3.11.5"
  }
 },
 "nbformat": 4,
 "nbformat_minor": 5
}
